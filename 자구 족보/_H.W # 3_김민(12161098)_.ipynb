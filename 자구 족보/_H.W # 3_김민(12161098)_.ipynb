{
 "nbformat": 4,
 "nbformat_minor": 0,
 "metadata": {
  "colab": {
   "name": "<H.W # 3_김민(12161098)>.ipynb",
   "provenance": [],
   "collapsed_sections": [],
   "authorship_tag": "ABX9TyPn5xFb9trb5aEwngHbwZIr"
  },
  "kernelspec": {
   "name": "python3",
   "display_name": "Python 3"
  }
 },
 "cells": [
  {
   "cell_type": "code",
   "metadata": {
    "id": "PHOZV_A_CuK1",
    "colab_type": "code",
    "colab": {
     "base_uri": "https://localhost:8080/",
     "height": 53
    },
    "outputId": "edd4ed65-9e90-4b68-ae5f-f111a60e7c6e",
    "executionInfo": {
     "status": "ok",
     "timestamp": 1586674318099,
     "user_tz": -540,
     "elapsed": 522,
     "user": {
      "displayName": "김민",
      "photoUrl": "",
      "userId": "03282461825069076178"
     }
    }
   },
   "source": [
    "class DNode:\n",
    "  def __init__(self, item = None):\n",
    "    self.item = item\n",
    "    self.right = None\n",
    "    self.left = None\n",
    "\n",
    "class DoubleLinkedList:\n",
    "  def __init__(self):\n",
    "    self.root = DNode()\n",
    "\n",
    "  def append(self, item):\n",
    "    newNode = DNode(item)\n",
    "    if self.root.item == None:\n",
    "      self.root = newNode\n",
    "    else:\n",
    "      curNode = self.root\n",
    "      while curNode.right != None:\n",
    "        curNode = curNode.right\n",
    "      curNode.right = newNode\n",
    "      newNode.left = curNode\n",
    "\n",
    "  def delete(self, item):\n",
    "    curNode = self.root\n",
    "    if curNode.item == item:\n",
    "      self.root = self.root.right\n",
    "    else:\n",
    "      while curNode.right != None:\n",
    "        curNode = curNode.right\n",
    "        if curNode.item == item:\n",
    "          if curNode.right == None:\n",
    "            curNode.left.right = curNode.right\n",
    "          else:\n",
    "            curNode.left.right = curNode.right\n",
    "            curNode.right.left = curNode.left\n",
    "\n",
    "  def print(self):\n",
    "    curNode = self.root\n",
    "    while curNode.right != None:\n",
    "      print(curNode.item, end = \", \")\n",
    "      curNode = curNode.right\n",
    "    print(curNode.item)\n",
    "\n",
    "fruit = DoubleLinkedList()\n",
    "fruit.append(\"사과\")\n",
    "fruit.append(\"오렌지\")\n",
    "fruit.append(\"배\")\n",
    "fruit.print()\n",
    "\n",
    "fruit.delete(\"배\")\n",
    "fruit.print()"
   ],
   "execution_count": 6,
   "outputs": [
    {
     "output_type": "stream",
     "text": [
      "사과, 오렌지, 배\n",
      "사과, 오렌지\n"
     ],
     "name": "stdout"
    }
   ]
  },
  {
   "cell_type": "code",
   "metadata": {
    "id": "aCglIB-RIxDo",
    "colab_type": "code",
    "colab": {}
   },
   "source": [
    ""
   ],
   "execution_count": 0,
   "outputs": []
  }
 ]
}